{
 "cells": [
  {
   "cell_type": "code",
   "execution_count": 1,
   "id": "51f7f5fd",
   "metadata": {},
   "outputs": [],
   "source": [
    "#Step 1 Creating a deck of 52 cards "
   ]
  },
  {
   "cell_type": "code",
   "execution_count": 2,
   "id": "2ef9c1e4",
   "metadata": {},
   "outputs": [],
   "source": [
    "import random \n",
    "suits = ('Hearts', 'Diamonds', 'Spades', 'Clubs')\n",
    "ranks = ('Two', 'Three', 'Four', 'Five', 'Six', 'Seven', 'Eight', 'Nine', 'Ten', 'Jack', 'Queen', 'King', 'Ace')\n",
    "values = {'Two':2, 'Three':3, 'Four':4, 'Five':5, 'Six':6, 'Seven':7, 'Eight':8, 'Nine':9, 'Ten':10, 'Jack':10,\n",
    "             'Queen':10, 'King':10, 'Ace':11}\n",
    "playing = True"
   ]
  },
  {
   "cell_type": "code",
   "execution_count": 3,
   "id": "ff8a162d",
   "metadata": {},
   "outputs": [],
   "source": [
    "class Card():\n",
    "    def __init__(self,suit,rank):\n",
    "        self.suit = suit\n",
    "        self.rank = rank\n",
    "    def __str__(self):\n",
    "        return self.rank + ' of ' + self.suit\n",
    "    "
   ]
  },
  {
   "cell_type": "code",
   "execution_count": 4,
   "id": "3f0914e1",
   "metadata": {},
   "outputs": [
    {
     "name": "stdout",
     "output_type": "stream",
     "text": [
      "Two of Hearts\n"
     ]
    }
   ],
   "source": [
    "print(Card('Hearts','Two'))"
   ]
  },
  {
   "cell_type": "code",
   "execution_count": 5,
   "id": "831c9aa2",
   "metadata": {},
   "outputs": [],
   "source": [
    "class Deck():\n",
    "    def __init__(self):\n",
    "        self.deck = []\n",
    "        for rank in ranks :\n",
    "            for suit in suits:\n",
    "                self.deck.append(Card(suit,rank))\n",
    "                \n",
    "    def shuffle(self):\n",
    "        random.shuffle(self.deck)\n",
    "    def deal(self):\n",
    "        single_card = self.deck.pop()\n",
    "        return single_card\n",
    "    def __str__(self):\n",
    "        deck_comp = ''\n",
    "        for card in self.deck:\n",
    "            deck_comp += '\\n' + card.__str__()\n",
    "        return \"The deck has :\" + deck_comp\n",
    "            \n",
    "            \n",
    "        "
   ]
  },
  {
   "cell_type": "code",
   "execution_count": 6,
   "id": "513a39d4",
   "metadata": {},
   "outputs": [],
   "source": [
    "new = Deck()\n",
    "new.shuffle()"
   ]
  },
  {
   "cell_type": "code",
   "execution_count": 7,
   "id": "b3be315f",
   "metadata": {},
   "outputs": [
    {
     "name": "stdout",
     "output_type": "stream",
     "text": [
      "The deck has :\n",
      "Seven of Diamonds\n",
      "Six of Hearts\n",
      "Ace of Hearts\n",
      "Ten of Spades\n",
      "King of Diamonds\n",
      "Queen of Diamonds\n",
      "Queen of Hearts\n",
      "King of Hearts\n",
      "Jack of Clubs\n",
      "King of Clubs\n",
      "Ten of Clubs\n",
      "Ten of Hearts\n",
      "Three of Clubs\n",
      "Five of Spades\n",
      "Seven of Clubs\n",
      "Nine of Hearts\n",
      "Eight of Spades\n",
      "Five of Hearts\n",
      "Four of Spades\n",
      "Five of Diamonds\n",
      "Two of Spades\n",
      "Nine of Spades\n",
      "Six of Spades\n",
      "Eight of Hearts\n",
      "Three of Hearts\n",
      "Five of Clubs\n",
      "Jack of Diamonds\n",
      "Jack of Hearts\n",
      "Four of Clubs\n",
      "Two of Clubs\n",
      "Two of Hearts\n",
      "Nine of Clubs\n",
      "Seven of Hearts\n",
      "Queen of Spades\n",
      "Four of Diamonds\n",
      "Eight of Clubs\n",
      "Ace of Spades\n",
      "Nine of Diamonds\n",
      "Four of Hearts\n",
      "Two of Diamonds\n",
      "Six of Diamonds\n",
      "King of Spades\n",
      "Ace of Clubs\n",
      "Three of Diamonds\n",
      "Eight of Diamonds\n",
      "Jack of Spades\n",
      "Ace of Diamonds\n",
      "Ten of Diamonds\n",
      "Seven of Spades\n",
      "Queen of Clubs\n",
      "Six of Clubs\n",
      "Three of Spades\n"
     ]
    }
   ],
   "source": [
    "print(new)"
   ]
  },
  {
   "cell_type": "code",
   "execution_count": 8,
   "id": "9e89a5be",
   "metadata": {},
   "outputs": [],
   "source": [
    "#Step 2 : creating a hand class for adding cards to the hand , getting the values of those cards and adjusting the ace's value."
   ]
  },
  {
   "cell_type": "code",
   "execution_count": 9,
   "id": "534f51bf",
   "metadata": {},
   "outputs": [],
   "source": [
    "class Hand():\n",
    "    def __init__(self):\n",
    "        self.cards = []\n",
    "        self.value = 0\n",
    "        self.aces = 0\n",
    "        \n",
    "    def add_card(self,card):\n",
    "        self.cards.append(card)\n",
    "        self.value += values[card.rank]\n",
    "        \n",
    "        if card.rank =='Ace':\n",
    "            self.aces += 1\n",
    "\n",
    "    def adjust_for_ace(self):\n",
    "        while self.value> 21 and self.aces > 0:\n",
    "            self.value -= 10\n",
    "            self.aces -= 1\n",
    "        "
   ]
  },
  {
   "cell_type": "code",
   "execution_count": 10,
   "id": "a7ae8832",
   "metadata": {},
   "outputs": [
    {
     "data": {
      "text/plain": [
       "3"
      ]
     },
     "execution_count": 10,
     "metadata": {},
     "output_type": "execute_result"
    }
   ],
   "source": [
    "m = Hand()\n",
    "m.add_card(new.deal())\n",
    "m.value"
   ]
  },
  {
   "cell_type": "code",
   "execution_count": 11,
   "id": "1267e61f",
   "metadata": {},
   "outputs": [],
   "source": [
    "#Step 3: Creating a chip class for calculating the total chips on winning and loosing the round"
   ]
  },
  {
   "cell_type": "code",
   "execution_count": 12,
   "id": "013359b4",
   "metadata": {},
   "outputs": [],
   "source": [
    "class Chips():\n",
    "    def __init__(self,total =100):\n",
    "        self.total = total \n",
    "        self.bet = 0\n",
    "    def win_bet(self):\n",
    "        self.total = self.total + self.bet\n",
    "    def lose_bet(self):\n",
    "        self.total = self.total - self.bet"
   ]
  },
  {
   "cell_type": "code",
   "execution_count": 13,
   "id": "466782bf",
   "metadata": {},
   "outputs": [],
   "source": [
    "#Step 4: Creating function for taking bet:"
   ]
  },
  {
   "cell_type": "code",
   "execution_count": 14,
   "id": "cbf69fde",
   "metadata": {},
   "outputs": [],
   "source": [
    "def take_bet(chips):\n",
    "    while True:\n",
    "        try:\n",
    "            chips.bet = int(input(\"How many chips would you like to bet? \"))\n",
    "        except:\n",
    "            print(\"Sorry! Please provide an integer!!\")\n",
    "        else:\n",
    "            if chips.bet > chips.total:\n",
    "                print(f\"Sorry you do not have enough chips! You have only{chips.total} chips.\")\n",
    "            else:\n",
    "                break\n",
    "                \n",
    "    "
   ]
  },
  {
   "cell_type": "code",
   "execution_count": 15,
   "id": "7650e193",
   "metadata": {},
   "outputs": [],
   "source": [
    "#Step 5: function for taking hits(adding cards)"
   ]
  },
  {
   "cell_type": "code",
   "execution_count": 16,
   "id": "5f0a7068",
   "metadata": {},
   "outputs": [],
   "source": [
    "def hit(deck,hand):\n",
    "    single_card = deck.deal()\n",
    "    hand.add_card(single_card)\n",
    "    hand.adjust_for_ace()"
   ]
  },
  {
   "cell_type": "code",
   "execution_count": 17,
   "id": "7939df02",
   "metadata": {},
   "outputs": [],
   "source": [
    "#Step 6: Asking player if they wnat to hit or stand"
   ]
  },
  {
   "cell_type": "code",
   "execution_count": 1,
   "id": "79cb35a7",
   "metadata": {},
   "outputs": [],
   "source": [
    "def hit_or_stand(deck,hand):\n",
    "    \n",
    "    global playing \n",
    "    while True:\n",
    "        x = input(\"Do you want to hit or stand? h or s: \")\n",
    "        if x[0].lower()=='h':\n",
    "            hit(deck,hand)\n",
    "        elif x[0].lower() == 's':\n",
    "            print(\"Player Stands! Dealer's turn \")\n",
    "            playing = False\n",
    "        else:\n",
    "            print(\"Sorry! please enter suitablue value h or s!\")\n",
    "            continue\n",
    "        break"
   ]
  },
  {
   "cell_type": "code",
   "execution_count": null,
   "id": "1b831e05",
   "metadata": {},
   "outputs": [],
   "source": [
    "#Step 7: Function to displaying the cards ---> Showing one of the dealer's card and both of the the player's card"
   ]
  },
  {
   "cell_type": "code",
   "execution_count": null,
   "id": "158fdba6",
   "metadata": {},
   "outputs": [],
   "source": [
    "def show_some(player,dealer):\n",
    "    print(\"\\n Dealer's hand: \")\n",
    "    print(\"First card hidden.\")\n",
    "    print(dealer.cards[1])\n",
    "    \n",
    "    print(\"\\n Player's hand: \")\n",
    "    for card in player.cards:\n",
    "        print(card)\n",
    "        \n",
    "def show_all(player,dealer):\n",
    "    print(\"\\n Dealer's hand: \")\n",
    "    for card in dealer.cards:\n",
    "        print(card)\n",
    "        \n",
    "    print(f\"Value of the Dealer's hand is {dealer.value}\")\n",
    "    \n",
    "    print(\"\\n Player's hand: \")\n",
    "    for card in player.cards:\n",
    "        print(card)\n",
    "        \n",
    "    print(f\"Value of the Player's hand is {player.value}\")"
   ]
  },
  {
   "cell_type": "code",
   "execution_count": null,
   "id": "600a569c",
   "metadata": {},
   "outputs": [],
   "source": [
    "#Step 8: Functions to handle the resuts "
   ]
  },
  {
   "cell_type": "code",
   "execution_count": null,
   "id": "3a0e816a",
   "metadata": {},
   "outputs": [],
   "source": [
    "def player_busts(player,dealer,chips):\n",
    "    print(\"player Busts!! \\nDealer Wins\")\n",
    "    chips.lose_bet()\n",
    "    \n",
    "def player_wins(player,dealer,chips):\n",
    "    print(\"Player Wins!\")\n",
    "    chips.win_bet()\n",
    "    \n",
    "def dealer_busts(player,dealer,chips):\n",
    "    print(\"dealer Busts!! \\nPlayer Wins\")\n",
    "    chips.win_bet()\n",
    "def dealer_wins(player,dealer,chips):\n",
    "    print(\"dealer Wins!\")\n",
    "    chips.lose_bet()  \n",
    "    \n",
    "def push(player,dealer):\n",
    "    print(\"Dealer and Player Tie ! Push\")"
   ]
  },
  {
   "cell_type": "code",
   "execution_count": null,
   "id": "675842a1",
   "metadata": {},
   "outputs": [],
   "source": [
    "#Step 9 : Creating game logic"
   ]
  },
  {
   "cell_type": "code",
   "execution_count": null,
   "id": "2fec2407",
   "metadata": {},
   "outputs": [],
   "source": [
    "while True:\n",
    "    # Print an opening statement\n",
    "    print(\"WELCOME TO BLACKJACK!!\")\n",
    "    \n",
    "\n",
    "    \n",
    "    # Create & shuffle the deck, deal two cards to each player\n",
    "    deck = Deck()\n",
    "    deck.shuffle()\n",
    "\n",
    "    player_hand = Hand()\n",
    "    player_hand.add_card(deck.deal())\n",
    "    player_hand.add_card(deck.deal())\n",
    "    \n",
    "    dealer_hand = Hand()\n",
    "    dealer_hand.add_card(deck.deal())\n",
    "    dealer_hand.add_card(deck.deal())\n",
    "    \n",
    "        \n",
    "    # Set up the Player's chips\n",
    "    player_chips = Chips()\n",
    "    \n",
    "    \n",
    "    # Prompt the Player for their bet\n",
    "    take_bet(player_chips)\n",
    "\n",
    "    \n",
    "    # Show cards (but keep one dealer card hidden)\n",
    "\n",
    "    show_some(player_hand,dealer_hand)\n",
    "    while playing:  # recall this variable from our hit_or_stand function\n",
    "        \n",
    "        # Prompt for Player to Hit or Stand\n",
    "        hit_or_stand(deck,player_hand)\n",
    "        \n",
    "        # Show cards (but keep one dealer card hidden)\n",
    "        show_some(player_hand,dealer_hand)\n",
    " \n",
    "        \n",
    "        # If player's hand exceeds 21, run player_busts() and break out of loop\n",
    "        if player_hand.value > 21:\n",
    "            player_busts(player_hand,dealer_hand, player_chips)\n",
    "            \n",
    "\n",
    "            break\n",
    "\n",
    "    # If Player hasn't busted, play Dealer's hand until Dealer reaches 17\n",
    "    if player_hand.value <=21:\n",
    "        while dealer_hand.value < player_hand.value :\n",
    "            hit(deck, dealer_hand)\n",
    "            \n",
    "    \n",
    "        # Show all cards\n",
    "        show_all(player_hand,dealer_hand)\n",
    "        # Run different winning scenarios\n",
    "        if dealer_hand.value > 21:\n",
    "            dealer_busts(player_hand, dealer_hand,player_chips)\n",
    "        elif dealer_hand.value > player_hand.value :\n",
    "            dealer_wins(player_hand, dealer_hand,player_chips)\n",
    "        elif dealer_hand.value < player_hand.value :\n",
    "            player_wins(player_hand, dealer_hand,player_chips)\n",
    "        else:\n",
    "            push(player_hand, dealer_hand)\n",
    "            \n",
    "    \n",
    "    # Inform Player of their chips total \n",
    "    print(\" \\n Player total chips are {} \".format(player_chips.total))\n",
    "    \n",
    "    # Ask to play again\n",
    "    new_game = input(\"Would you like to play again? y/n: \")\n",
    "    \n",
    "    if new_game[0].lower() == 'y':\n",
    "        playing = True\n",
    "        continue\n",
    "    else:\n",
    "        print(\"Thank you for playing !!\")\n",
    "        break"
   ]
  },
  {
   "cell_type": "code",
   "execution_count": null,
   "id": "20ff6377",
   "metadata": {},
   "outputs": [],
   "source": []
  }
 ],
 "metadata": {
  "kernelspec": {
   "display_name": "Python 3 (ipykernel)",
   "language": "python",
   "name": "python3"
  },
  "language_info": {
   "codemirror_mode": {
    "name": "ipython",
    "version": 3
   },
   "file_extension": ".py",
   "mimetype": "text/x-python",
   "name": "python",
   "nbconvert_exporter": "python",
   "pygments_lexer": "ipython3",
   "version": "3.9.13"
  }
 },
 "nbformat": 4,
 "nbformat_minor": 5
}
